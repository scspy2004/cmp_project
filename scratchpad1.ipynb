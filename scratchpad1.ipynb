{
 "cells": [
  {
   "cell_type": "code",
   "execution_count": 10,
   "metadata": {},
   "outputs": [],
   "source": [
    "import pandas as pd\n",
    "import streamlit as st"
   ]
  },
  {
   "cell_type": "code",
   "execution_count": 14,
   "metadata": {},
   "outputs": [
    {
     "name": "stderr",
     "output_type": "stream",
     "text": [
      "2025-06-20 13:25:15.483 WARNING streamlit.runtime.scriptrunner_utils.script_run_context: Thread 'MainThread': missing ScriptRunContext! This warning can be ignored when running in bare mode.\n",
      "2025-06-20 13:25:15.484 WARNING streamlit.runtime.scriptrunner_utils.script_run_context: Thread 'MainThread': missing ScriptRunContext! This warning can be ignored when running in bare mode.\n",
      "2025-06-20 13:25:15.484 WARNING streamlit.runtime.scriptrunner_utils.script_run_context: Thread 'MainThread': missing ScriptRunContext! This warning can be ignored when running in bare mode.\n",
      "2025-06-20 13:25:15.486 WARNING streamlit.runtime.scriptrunner_utils.script_run_context: Thread 'MainThread': missing ScriptRunContext! This warning can be ignored when running in bare mode.\n"
     ]
    },
    {
     "name": "stdout",
     "output_type": "stream",
     "text": [
      "   slot    lot_id result        date\n",
      "0     6  AAA001.1   pass  2025-05-16\n",
      "1     7  AAA001.1   pass  2025-05-16\n"
     ]
    }
   ],
   "source": [
    "df = pd.read_csv('data/result.csv')\n",
    "\n",
    "max_count = int(df.groupby(\"slot\").size().max())\n",
    "result_dfs = []\n",
    "for i in range(max_count):\n",
    "    result_dfs.append(df.groupby(\"slot\").nth(i).reset_index())\n",
    "\n",
    "print(result_dfs[2])\n",
    "\n",
    "cols = st.columns(max_count)"
   ]
  }
 ],
 "metadata": {
  "kernelspec": {
   "display_name": "smj3.8",
   "language": "python",
   "name": "python3"
  },
  "language_info": {
   "codemirror_mode": {
    "name": "ipython",
    "version": 3
   },
   "file_extension": ".py",
   "mimetype": "text/x-python",
   "name": "python",
   "nbconvert_exporter": "python",
   "pygments_lexer": "ipython3",
   "version": "3.8.5"
  }
 },
 "nbformat": 4,
 "nbformat_minor": 2
}
